{
 "cells": [
  {
   "cell_type": "code",
   "execution_count": 7,
   "id": "c14123ed-ee8b-437c-a490-873b8b9d16e7",
   "metadata": {},
   "outputs": [
    {
     "name": "stdout",
     "output_type": "stream",
     "text": [
      "Invalid Password\n",
      "Invalid password\n"
     ]
    }
   ],
   "source": [
    "# question 1\n",
    "import re\n",
    "def check(str):\n",
    "    if len(str)!=10:\n",
    "        return \"Invalid Password\"\n",
    "    uppercase_cnt=sum(1 for char in str if char.isupper())\n",
    "    lowrecase_cnt=sum(1 for char in str if char.islower())\n",
    "    if uppercase_cnt<2 or lowercase_cnt<2:\n",
    "        return \"Invalid password\"\n",
    "    if not any(char.isdigit() for char in str):\n",
    "        return \"Invalid password\"\n",
    "    special_char_count = len(re.findall(r'[!@#$%^&*()-=_+[\\]{};:\"|,.<>/?]', str))\n",
    "    if special_char_count<3:\n",
    "        return \"Invalid paasword\"\n",
    "    \n",
    "    return \"Valid Password\"\n",
    "\n",
    "password1 = \"ABcdef123!@#\"\n",
    "result1 = check(password1)\n",
    "print(result1)  # Output: Valid Password\n",
    "\n",
    "password2 = \"abcdef123!\"\n",
    "result2 = check(password2)\n",
    "print(result2)  # Output: Invalid Password\n",
    "\n",
    "    \n",
    "   "
   ]
  },
  {
   "cell_type": "code",
   "execution_count": 10,
   "id": "3f6b5deb-4d7c-4e34-b839-e2da7c7516dc",
   "metadata": {},
   "outputs": [
    {
     "name": "stdout",
     "output_type": "stream",
     "text": [
      "False\n"
     ]
    }
   ],
   "source": [
    "# Question 2\n",
    "#1\n",
    "check=lambda string,letter:string.startswith(letter)\n",
    "string = \"Hello, world!\"\n",
    "letter = \"L\"\n",
    "\n",
    "result = check(string, letter)\n",
    "print(result)  # Output: True\n"
   ]
  },
  {
   "cell_type": "code",
   "execution_count": 14,
   "id": "52cf26fc-e87c-4267-b40b-3a79ed3fa75a",
   "metadata": {},
   "outputs": [
    {
     "name": "stdout",
     "output_type": "stream",
     "text": [
      "False\n"
     ]
    }
   ],
   "source": [
    "#2\n",
    "check_numeric=lambda string:string.isdigit()\n",
    "string=\"1234a\"\n",
    "result=check_numeric(string)\n",
    "print(result)"
   ]
  },
  {
   "cell_type": "code",
   "execution_count": 15,
   "id": "ce0702f8-eb47-4f05-abba-c2477f4d753b",
   "metadata": {},
   "outputs": [
    {
     "name": "stdout",
     "output_type": "stream",
     "text": [
      "[('orange', 80), ('mango', 99), ('grapes', 1000)]\n"
     ]
    }
   ],
   "source": [
    "#3\n",
    "fruits = [(\"mango\", 99), (\"orange\", 80), (\"grapes\", 1000)]\n",
    "\n",
    "sorted_fruits = sorted(fruits, key=lambda x: x[1])\n",
    "print(sorted_fruits)\n"
   ]
  },
  {
   "cell_type": "code",
   "execution_count": 17,
   "id": "c8a8b694-1d53-4e51-b4eb-a41194192f30",
   "metadata": {},
   "outputs": [
    {
     "name": "stdout",
     "output_type": "stream",
     "text": [
      "[1, 4, 9, 16, 25, 36, 49, 64, 81, 100]\n"
     ]
    }
   ],
   "source": [
    "#3\n",
    "numbers = range(1, 11)\n",
    "\n",
    "squared_numbers = map(lambda x: x ** 2, numbers)\n",
    "print(list(squared_numbers))\n",
    "\n"
   ]
  },
  {
   "cell_type": "code",
   "execution_count": 18,
   "id": "274ac196-3189-4344-9db5-f63caef33f39",
   "metadata": {},
   "outputs": [
    {
     "name": "stdout",
     "output_type": "stream",
     "text": [
      "[1, 8, 27, 64, 125, 216, 343, 512, 729, 1000]\n"
     ]
    }
   ],
   "source": [
    "#4\n",
    "numbers = range(1, 11)\n",
    "\n",
    "squared_numbers = map(lambda x: x ** 3, numbers)\n",
    "print(list(squared_numbers))\n"
   ]
  },
  {
   "cell_type": "code",
   "execution_count": 24,
   "id": "6e5895b7-8b53-4514-bece-c9570a0a1075",
   "metadata": {},
   "outputs": [
    {
     "name": "stdout",
     "output_type": "stream",
     "text": [
      "[4]\n"
     ]
    }
   ],
   "source": [
    "#5\n",
    "number = 4\n",
    "\n",
    "is_even = filter(lambda x: x % 2 == 0, [number])\n",
    "print(list(is_even))\n"
   ]
  },
  {
   "cell_type": "code",
   "execution_count": 28,
   "id": "16900a2b-2cbc-4c99-bba0-ac58ed3b7503",
   "metadata": {},
   "outputs": [
    {
     "name": "stdout",
     "output_type": "stream",
     "text": [
      "[1, 3, 5, 7, 9]\n"
     ]
    }
   ],
   "source": [
    "numbers = [1, 2, 3, 4, 5, 6, 7, 8, 9, 10]\n",
    "\n",
    "odd_numbers = [x for x in numbers if x % 2 != 0]\n",
    "print(odd_numbers)\n"
   ]
  },
  {
   "cell_type": "code",
   "execution_count": 29,
   "id": "ef3ee618-b9fd-406e-8d04-9bf615eae0d4",
   "metadata": {},
   "outputs": [
    {
     "name": "stdout",
     "output_type": "stream",
     "text": [
      "[1, 3, 5, 7, 9]\n",
      "[-2, -4, -6, -8, -10]\n"
     ]
    }
   ],
   "source": [
    "numbers = [1, -2, 3, -4, 5, -6, 7, -8, 9, -10]\n",
    "\n",
    "positive_numbers = [x for x in numbers if x > 0]\n",
    "negative_numbers = [x for x in numbers if x < 0]\n",
    "\n",
    "print(positive_numbers)\n",
    "print(negative_numbers)\n"
   ]
  },
  {
   "cell_type": "code",
   "execution_count": null,
   "id": "8fb092ad-3048-475a-a550-a117fd3cedf9",
   "metadata": {},
   "outputs": [],
   "source": []
  }
 ],
 "metadata": {
  "kernelspec": {
   "display_name": "Python 3 (ipykernel)",
   "language": "python",
   "name": "python3"
  },
  "language_info": {
   "codemirror_mode": {
    "name": "ipython",
    "version": 3
   },
   "file_extension": ".py",
   "mimetype": "text/x-python",
   "name": "python",
   "nbconvert_exporter": "python",
   "pygments_lexer": "ipython3",
   "version": "3.10.8"
  }
 },
 "nbformat": 4,
 "nbformat_minor": 5
}
